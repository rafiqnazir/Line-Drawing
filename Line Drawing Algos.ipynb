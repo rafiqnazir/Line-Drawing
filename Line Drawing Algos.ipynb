{
 "cells": [
  {
   "cell_type": "code",
   "execution_count": 57,
   "metadata": {},
   "outputs": [
    {
     "name": "stdout",
     "output_type": "stream",
     "text": [
      "0.5333333333333333 1.0\n",
      "x = 2, y = 5\n",
      "x = 3, y = 6 , x = 3, y = 7 , x = 4, y = 8 , x = 4, y = 9 , x = 5, y = 10 , x = 5, y = 11 , x = 6, y = 12 , x = 6, y = 13 , x = 7, y = 14 , x = 7, y = 15 , x = 8, y = 16 , x = 8, y = 17 , x = 9, y = 18 , x = 9, y = 19 , x = 10, y = 20 , "
     ]
    },
    {
     "data": {
      "image/png": "[encoded data removed]",
      "text/plain": [
       "<Figure size 432x288 with 1 Axes>"
      ]
     },
     "metadata": {
      "needs_background": "light"
     },
     "output_type": "display_data"
    }
   ],
   "source": [
    "import matplotlib.pyplot as plt\n",
    "%matplotlib inline\n",
    "X=[]\n",
    "Y=[]\n",
    "def ROUND(a):\n",
    "    return int(a + 0.5)\n",
    "\n",
    "def DDA(x1,y1,x2,y2):\n",
    "    \n",
    "    x,y = x1,y1\n",
    "    length = abs((x2-x1) if abs(x2-x1) > abs(y2-y1) else (y2-y1))\n",
    "    dx = (x2-x1)/float(length)\n",
    "    dy = (y2-y1)/float(length)\n",
    "    print(dx,dy)\n",
    "    print(\"x = %s, y = %s\"%(ROUND(x),ROUND(y)))\n",
    "    X.append(x)\n",
    "    Y.append(y)\n",
    "    for i in range(length):\n",
    "        x+=dx\n",
    "        y+= dy\n",
    "        print(\"x = %s, y = %s\"%(ROUND(x),ROUND(y)),end=\" , \")\n",
    "        X.append(ROUND(x))\n",
    "        Y.append(ROUND(y))\n",
    "#print(Round(x),Round(y))\n",
    "#print 'x = %s, y = %s' % (((ROUND(x),ROUND(y))))\n",
    "\n",
    "DDA(2,5,10,20)\n",
    "plt.scatter(X,Y)\n",
    "plt.plot(X,Y)\n",
    "plt.show()"
   ]
  },
  {
   "cell_type": "code",
   "execution_count": 60,
   "metadata": {},
   "outputs": [
    {
     "name": "stdout",
     "output_type": "stream",
     "text": [
      "2   5 , 3   6 , 4   7 , 5   8 , 6   9 , 7   10 , 8   11 , 9   12 , 10   13 , "
     ]
    },
    {
     "data": {
      "image/png": "[encoded data removed]",
      "text/plain": [
       "<Figure size 432x288 with 1 Axes>"
      ]
     },
     "metadata": {
      "needs_background": "light"
     },
     "output_type": "display_data"
    }
   ],
   "source": [
    "X=[]\n",
    "Y=[]\n",
    "def bresen(x1,y1,x2,y2):\n",
    "    dx=abs(x2-x1)\n",
    "    dy=abs(y2-y1)\n",
    "    p=2*dy-dx\n",
    "    if x1>x2 :\n",
    "        x=x2\n",
    "        y=y2\n",
    "        xend=x1\n",
    "    else:\n",
    "        x=x1\n",
    "        y=y1\n",
    "        xend=x2\n",
    "    print(x,\" \",y,end=\" , \")\n",
    "    X.append(x)\n",
    "    Y.append(y)\n",
    "    for i in range(x,xend):\n",
    "        x+=1\n",
    "        if p<0:\n",
    "            p+=2*dy\n",
    "        else:\n",
    "            y+=1\n",
    "            p+=2*(dy-dx)\n",
    "        print(x,\" \",y,end= \" , \")\n",
    "        X.append(x)\n",
    "        Y.append(y)\n",
    " \n",
    "bresen(2,5,10,20)\n",
    "plt.scatter(X,Y)\n",
    "plt.plot(X,Y)\n",
    "plt.show()"
   ]
  },
  {
   "cell_type": "code",
   "execution_count": null,
   "metadata": {},
   "outputs": [],
   "source": []
  }
 ],
 "metadata": {
  "kernelspec": {
   "display_name": "Python 3",
   "language": "python",
   "name": "python3"
  },
  "language_info": {
   "codemirror_mode": {
    "name": "ipython",
    "version": 3
   },
   "file_extension": ".py",
   "mimetype": "text/x-python",
   "name": "python",
   "nbconvert_exporter": "python",
   "pygments_lexer": "ipython3",
   "version": "3.7.3"
  }
 },
 "nbformat": 4,
 "nbformat_minor": 2
}
